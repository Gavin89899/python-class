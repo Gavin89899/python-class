{
 "cells": [
  {
   "cell_type": "markdown",
   "id": "e24684d1",
   "metadata": {},
   "source": [
    "<h2>Homework 2<br>\n",
    "Problem 1</h2>"
   ]
  },
  {
   "cell_type": "code",
   "execution_count": 10,
   "id": "153a05dd",
   "metadata": {},
   "outputs": [
    {
     "name": "stdout",
     "output_type": "stream",
     "text": [
      "Enter the number of seconds: 11730\n",
      "\n",
      "The time in hours, minutes, and second is:\n",
      "\n",
      "\tHours:  3.0\n",
      "\n",
      "\tMinutes:  15.0\n",
      "\n",
      "\tSeconds:  30.0\n"
     ]
    }
   ],
   "source": [
    "#Gavin Corley\n",
    "#This code converts a total number of seconds into hours, minutes, and seconds\n",
    "seconds = float(input(\"Enter the number of seconds: \"))\n",
    "hours = seconds // (60 * 60)  \n",
    "seconds %= (60 * 60)\n",
    "minutes = seconds // 60 \n",
    "seconds %= 60\n",
    "print(\"\\nThe time in hours, minutes, and second is:\")\n",
    "print(\"\\n\\tHours: \", hours)\n",
    "print(\"\\n\\tMinutes: \", minutes)\n",
    "print(\"\\n\\tSeconds: \", seconds)"
   ]
  },
  {
   "cell_type": "markdown",
   "id": "e5ed21ba",
   "metadata": {},
   "source": [
    "<h2>Homework 2<br>\n",
    "Problem 2</h2>"
   ]
  },
  {
   "cell_type": "code",
   "execution_count": 9,
   "id": "d176c1fc",
   "metadata": {
    "scrolled": true
   },
   "outputs": [
    {
     "name": "stdout",
     "output_type": "stream",
     "text": [
      "Enter the temperature in Farenheit: 54\n",
      "\n",
      "The temperature in Celsius:\n",
      "\n",
      "\tCelsius:  12.22\n"
     ]
    }
   ],
   "source": [
    "#Gavin Corley\n",
    "#This code converts Farenheit to Celsius\n",
    "fDeg = float(input(\"Enter the temperature in Farenheit: \"))\n",
    "cDeg = (5 / 9) * (fDeg-32)\n",
    "print(\"\\nThe temperature in Celsius:\")\n",
    "print(\"\\n\\tCelsius: \", round(cDeg, 2))"
   ]
  }
 ],
 "metadata": {
  "kernelspec": {
   "display_name": "Python 3 (ipykernel)",
   "language": "python",
   "name": "python3"
  },
  "language_info": {
   "codemirror_mode": {
    "name": "ipython",
    "version": 3
   },
   "file_extension": ".py",
   "mimetype": "text/x-python",
   "name": "python",
   "nbconvert_exporter": "python",
   "pygments_lexer": "ipython3",
   "version": "3.11.4"
  }
 },
 "nbformat": 4,
 "nbformat_minor": 5
}
