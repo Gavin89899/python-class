{
 "cells": [
  {
   "cell_type": "code",
   "execution_count": 2,
   "metadata": {},
   "outputs": [
    {
     "ename": "IndentationError",
     "evalue": "unexpected indent (<ipython-input-2-75ec43f56d94>, line 4)",
     "output_type": "error",
     "traceback": [
      "\u001b[1;36m  File \u001b[1;32m\"<ipython-input-2-75ec43f56d94>\"\u001b[1;36m, line \u001b[1;32m4\u001b[0m\n\u001b[1;33m    print()\u001b[0m\n\u001b[1;37m    ^\u001b[0m\n\u001b[1;31mIndentationError\u001b[0m\u001b[1;31m:\u001b[0m unexpected indent\n"
     ]
    }
   ],
   "source": [
    "# slide 10 - 11\n",
    "print ('Hi')\n",
    "print (\"hello\")\n",
    " print()"
   ]
  },
  {
   "cell_type": "code",
   "execution_count": 2,
   "metadata": {},
   "outputs": [
    {
     "name": "stdout",
     "output_type": "stream",
     "text": [
      "The total count is:  3\n",
      "The total count is:  3\n",
      "The total count is:  3\n",
      "The total    count is:  3\n",
      "count is:  3\n",
      "count is:  3\n"
     ]
    }
   ],
   "source": [
    "# slide 10 - 11\n",
    "count = 3\n",
    "print(\"The total count is: \", count)\n",
    "print(\"The total \" + \n",
    "     \"count is: \", count)\n",
    "print(\"The total\\\n",
    " count is: \", count)\n",
    "print(\"The total\\\n",
    "    count is: \", count)\n",
    "print(\"count is: \",\n",
    "     count)\n",
    "print(\"count is: \",\n",
    "count)"
   ]
  },
  {
   "cell_type": "code",
   "execution_count": 6,
   "metadata": {},
   "outputs": [
    {
     "name": "stdout",
     "output_type": "stream",
     "text": [
      "5\n"
     ]
    }
   ],
   "source": [
    "# slide 13\n",
    "# Author: Linda Yang\n",
    "# The purpose of this program is to add two numbers\n",
    "# and display it back to the user.\n",
    "\n",
    "print (3 + 2)"
   ]
  },
  {
   "cell_type": "code",
   "execution_count": 2,
   "metadata": {},
   "outputs": [
    {
     "name": "stdout",
     "output_type": "stream",
     "text": [
      "Hi\n",
      "hello\n",
      "\n"
     ]
    }
   ],
   "source": [
    "# slide 16\n",
    "print ('Hi')\n",
    "print (\"hello\")\n",
    "print()"
   ]
  },
  {
   "cell_type": "code",
   "execution_count": 1,
   "metadata": {
    "scrolled": false
   },
   "outputs": [
    {
     "name": "stdout",
     "output_type": "stream",
     "text": [
      "Hello from the other side!\n"
     ]
    }
   ],
   "source": [
    "# slide 16\n",
    "print (\"Hello from the other side!\")"
   ]
  },
  {
   "cell_type": "code",
   "execution_count": 7,
   "metadata": {},
   "outputs": [
    {
     "name": "stdout",
     "output_type": "stream",
     "text": [
      "3\n",
      "linda\n",
      "100\n"
     ]
    }
   ],
   "source": [
    "# slide 18\n",
    "\n",
    "count = 3\n",
    "print(count)\n",
    "count = \"linda\"\n",
    "print(count)\n",
    "count = 100\n",
    "print(count)"
   ]
  },
  {
   "cell_type": "code",
   "execution_count": 3,
   "metadata": {},
   "outputs": [
    {
     "name": "stdout",
     "output_type": "stream",
     "text": [
      "linda 34 54 29.99\n",
      "Katie 15 24 29.99\n"
     ]
    },
    {
     "ename": "NameError",
     "evalue": "name 'Quantity1' is not defined",
     "output_type": "error",
     "traceback": [
      "\u001b[1;31m---------------------------------------------------------------------------\u001b[0m",
      "\u001b[1;31mNameError\u001b[0m                                 Traceback (most recent call last)",
      "\u001b[1;32m<ipython-input-3-d5c45ff82f03>\u001b[0m in \u001b[0;36m<module>\u001b[1;34m\u001b[0m\n\u001b[0;32m     16\u001b[0m \u001b[1;33m\u001b[0m\u001b[0m\n\u001b[0;32m     17\u001b[0m \u001b[1;31m# case sensitivity\u001b[0m\u001b[1;33m\u001b[0m\u001b[1;33m\u001b[0m\u001b[1;33m\u001b[0m\u001b[0m\n\u001b[1;32m---> 18\u001b[1;33m \u001b[0mquantity2\u001b[0m \u001b[1;33m=\u001b[0m \u001b[0mQuantity1\u001b[0m\u001b[1;33m\u001b[0m\u001b[1;33m\u001b[0m\u001b[0m\n\u001b[0m",
      "\u001b[1;31mNameError\u001b[0m: name 'Quantity1' is not defined"
     ]
    }
   ],
   "source": [
    "# slide 20\n",
    "\n",
    "first_name = 'linda'\n",
    "quantity1 = 34\n",
    "quantity2 = 54\n",
    "list_price = 29.99\n",
    "\n",
    "print(first_name, quantity1, quantity2, list_price)\n",
    "\n",
    "first_name = \"Katie\"\n",
    "quantity1 = 24\n",
    "quantity2 = quantity1\n",
    "quantity1 = \"15\"\n",
    "\n",
    "print(first_name, quantity1, quantity2, list_price)\n",
    "\n",
    "# case sensitivity\n",
    "quantity2 = Quantity1\n"
   ]
  },
  {
   "cell_type": "code",
   "execution_count": 14,
   "metadata": {},
   "outputs": [
    {
     "name": "stdout",
     "output_type": "stream",
     "text": [
      "6.25\n",
      "6\n",
      "1\n",
      "9\n"
     ]
    }
   ],
   "source": [
    "slide 25\n",
    "\n",
    "print (25 / 4)\n",
    "print (25 // 4)\n",
    "print (25 % 4)\n",
    "print (3 ** 2)"
   ]
  },
  {
   "cell_type": "code",
   "execution_count": 15,
   "metadata": {},
   "outputs": [
    {
     "name": "stdout",
     "output_type": "stream",
     "text": [
      "100\n",
      "150\n",
      "200\n"
     ]
    }
   ],
   "source": [
    "# slide 29\n",
    "\n",
    "# Author: Linda Yang\n",
    "# This program increments numbers and displays the results\n",
    "\n",
    "count = 100\n",
    "print(count)\n",
    "count = count + 50\n",
    "print(count)\n",
    "count += 50\n",
    "print(count)"
   ]
  },
  {
   "cell_type": "code",
   "execution_count": 16,
   "metadata": {},
   "outputs": [
    {
     "name": "stdout",
     "output_type": "stream",
     "text": [
      "Yang, Linda\n"
     ]
    }
   ],
   "source": [
    "# slide 31\n",
    "\n",
    "last_name = \"Yang\"\n",
    "first_name = \"Linda\"\n",
    "print(last_name + ', ' + first_name)"
   ]
  },
  {
   "cell_type": "code",
   "execution_count": 18,
   "metadata": {},
   "outputs": [
    {
     "ename": "TypeError",
     "evalue": "must be str, not int",
     "output_type": "error",
     "traceback": [
      "\u001b[1;31m---------------------------------------------------------------------------\u001b[0m",
      "\u001b[1;31mTypeError\u001b[0m                                 Traceback (most recent call last)",
      "\u001b[1;32m<ipython-input-18-9b9643f1684d>\u001b[0m in \u001b[0;36m<module>\u001b[1;34m()\u001b[0m\n\u001b[0;32m      1\u001b[0m \u001b[0mname\u001b[0m \u001b[1;33m=\u001b[0m \u001b[1;34m\"Linda Yang\"\u001b[0m\u001b[1;33m\u001b[0m\u001b[0m\n\u001b[0;32m      2\u001b[0m \u001b[0mage\u001b[0m \u001b[1;33m=\u001b[0m \u001b[1;36m29\u001b[0m\u001b[1;33m\u001b[0m\u001b[0m\n\u001b[1;32m----> 3\u001b[1;33m \u001b[0mmessage\u001b[0m \u001b[1;33m=\u001b[0m \u001b[0mname\u001b[0m \u001b[1;33m+\u001b[0m \u001b[1;34m\" is \"\u001b[0m \u001b[1;33m+\u001b[0m \u001b[0mage\u001b[0m \u001b[1;33m+\u001b[0m \u001b[1;34m\" years old!\"\u001b[0m\u001b[1;33m\u001b[0m\u001b[0m\n\u001b[0m",
      "\u001b[1;31mTypeError\u001b[0m: must be str, not int"
     ]
    }
   ],
   "source": [
    "name = \"Linda Yang\"\n",
    "age = 29\n",
    "message = name + \" is \" + age + \" years old!\""
   ]
  },
  {
   "cell_type": "code",
   "execution_count": 20,
   "metadata": {},
   "outputs": [
    {
     "name": "stdout",
     "output_type": "stream",
     "text": [
      "Linda Yang is 29 years old!\n"
     ]
    }
   ],
   "source": [
    "# slide 32\n",
    "\n",
    "name = \"Linda Yang\"\n",
    "age = 29\n",
    "message = name + \" is \" + str(age) + \" years old!\"\n",
    "print(message)"
   ]
  },
  {
   "cell_type": "code",
   "execution_count": 21,
   "metadata": {},
   "outputs": [
    {
     "name": "stdout",
     "output_type": "stream",
     "text": [
      "Course: Python Programming\n",
      "Instructor: Linda Yang\n"
     ]
    }
   ],
   "source": [
    "# slide 34\n",
    "\n",
    "print(\"Course: Python Programming\\nInstructor: Linda Yang\")"
   ]
  },
  {
   "cell_type": "code",
   "execution_count": 22,
   "metadata": {},
   "outputs": [
    {
     "name": "stdout",
     "output_type": "stream",
     "text": [
      "Score is:  350 \n",
      "Average is:  3.5\n",
      "Score is: 350\n",
      "Average is: 3.5\n"
     ]
    }
   ],
   "source": [
    "# slide 34\n",
    "\n",
    "score_total = 350\n",
    "average = 3.5\n",
    "print(\"Score is: \", score_total,\n",
    "     \"\\nAverage is: \", average)\n",
    "print(\"Score is: \" + str(score_total) +\n",
    "      \"\\nAverage is: \" + str(average))\n"
   ]
  },
  {
   "cell_type": "code",
   "execution_count": 24,
   "metadata": {},
   "outputs": [
    {
     "name": "stdout",
     "output_type": "stream",
     "text": [
      "1 | 2 | 3 | 4\n",
      "1 2 3 4!!!"
     ]
    }
   ],
   "source": [
    "# slide 35\n",
    "\n",
    "print(1, 2, 3, 4, sep = \" | \")\n",
    "print(1, 2, 3, 4, end = \"!!!\")"
   ]
  },
  {
   "cell_type": "code",
   "execution_count": 25,
   "metadata": {},
   "outputs": [
    {
     "name": "stdout",
     "output_type": "stream",
     "text": [
      "Enter your pets name: Teddie\n",
      "Comme here Teddie!\n"
     ]
    }
   ],
   "source": [
    "# slide 38\n",
    "\n",
    "pet_name = input(\"Enter your pets name: \")\n",
    "print(\"Comme here \" + pet_name + \"!\")\n"
   ]
  },
  {
   "cell_type": "code",
   "execution_count": 26,
   "metadata": {},
   "outputs": [
    {
     "name": "stdout",
     "output_type": "stream",
     "text": [
      "What is your pets name?\n",
      "Tobey\n",
      "Comme here Tobey!\n"
     ]
    }
   ],
   "source": [
    "# slide 38\n",
    "\n",
    "print(\"What is your pets name?\")\n",
    "pet_name = input()\n",
    "print(\"Comme here \" + pet_name + \"!\")"
   ]
  },
  {
   "cell_type": "code",
   "execution_count": 4,
   "metadata": {},
   "outputs": [
    {
     "name": "stdout",
     "output_type": "stream",
     "text": [
      "Enter your pets name: smokey\n",
      "Enter your pets age: 12\n"
     ]
    },
    {
     "ename": "TypeError",
     "evalue": "can only concatenate str (not \"int\") to str",
     "output_type": "error",
     "traceback": [
      "\u001b[1;31m---------------------------------------------------------------------------\u001b[0m",
      "\u001b[1;31mTypeError\u001b[0m                                 Traceback (most recent call last)",
      "\u001b[1;32m<ipython-input-4-aa279518f2c6>\u001b[0m in \u001b[0;36m<module>\u001b[1;34m\u001b[0m\n\u001b[0;32m      4\u001b[0m \u001b[0mpet_age\u001b[0m \u001b[1;33m=\u001b[0m \u001b[0mint\u001b[0m\u001b[1;33m(\u001b[0m\u001b[0minput\u001b[0m\u001b[1;33m(\u001b[0m\u001b[1;34m\"Enter your pets age: \"\u001b[0m\u001b[1;33m)\u001b[0m\u001b[1;33m)\u001b[0m\u001b[1;33m\u001b[0m\u001b[1;33m\u001b[0m\u001b[0m\n\u001b[0;32m      5\u001b[0m \u001b[0mpet_age\u001b[0m \u001b[1;33m+=\u001b[0m\u001b[1;36m1\u001b[0m\u001b[1;33m\u001b[0m\u001b[1;33m\u001b[0m\u001b[0m\n\u001b[1;32m----> 6\u001b[1;33m \u001b[0mprint\u001b[0m\u001b[1;33m(\u001b[0m\u001b[0mpet_name\u001b[0m \u001b[1;33m+\u001b[0m \u001b[1;34m\" will be \"\u001b[0m  \u001b[1;33m+\u001b[0m \u001b[0mpet_age\u001b[0m \u001b[1;33m+\u001b[0m \u001b[1;34m\" years old!\"\u001b[0m\u001b[1;33m)\u001b[0m\u001b[1;33m\u001b[0m\u001b[1;33m\u001b[0m\u001b[0m\n\u001b[0m",
      "\u001b[1;31mTypeError\u001b[0m: can only concatenate str (not \"int\") to str"
     ]
    }
   ],
   "source": [
    "# slide 38 - 39\n",
    "\n",
    "pet_name = input(\"Enter your pets name: \")\n",
    "pet_age = input(\"Enter your pets age: \")\n",
    "pet_age +=1\n",
    "print(pet_name + \" will be \"  + pet_age + \" years old!\")\n"
   ]
  },
  {
   "cell_type": "code",
   "execution_count": 37,
   "metadata": {},
   "outputs": [
    {
     "name": "stdout",
     "output_type": "stream",
     "text": [
      "20\n"
     ]
    }
   ],
   "source": [
    "# slide 39\n",
    "\n",
    "x = 15\n",
    "y = \"5\"\n",
    "z = x + int(y)\n",
    "print (z)"
   ]
  },
  {
   "cell_type": "code",
   "execution_count": 38,
   "metadata": {},
   "outputs": [
    {
     "name": "stdout",
     "output_type": "stream",
     "text": [
      "Enter the price: 23.99\n"
     ]
    }
   ],
   "source": [
    "price = input(\"Enter the price: \")\n",
    "price = float(price)\n"
   ]
  },
  {
   "cell_type": "code",
   "execution_count": 3,
   "metadata": {},
   "outputs": [
    {
     "name": "stdout",
     "output_type": "stream",
     "text": [
      "25.53\n",
      "25.53\n"
     ]
    }
   ],
   "source": [
    "# slide 43\n",
    "# Author: Linda Yang\n",
    "# use round()\n",
    "\n",
    "miles_driven = 150\n",
    "gallons_used = 5.875\n",
    "mpg = miles_driven / gallons_used  # 25.53191489361702\n",
    "mpg = round(mpg, 2)                # 25.53\n",
    "print(mpg)\n",
    "mpg = 0\n",
    "mpg = round(miles_driven / gallons_used, 2)\n",
    "print(mpg)\n"
   ]
  },
  {
   "cell_type": "code",
   "execution_count": null,
   "metadata": {},
   "outputs": [],
   "source": []
  }
 ],
 "metadata": {
  "kernelspec": {
   "display_name": "Python 3 (ipykernel)",
   "language": "python",
   "name": "python3"
  },
  "language_info": {
   "codemirror_mode": {
    "name": "ipython",
    "version": 3
   },
   "file_extension": ".py",
   "mimetype": "text/x-python",
   "name": "python",
   "nbconvert_exporter": "python",
   "pygments_lexer": "ipython3",
   "version": "3.11.4"
  }
 },
 "nbformat": 4,
 "nbformat_minor": 2
}
