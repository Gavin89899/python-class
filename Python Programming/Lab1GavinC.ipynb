{
 "cells": [
  {
   "cell_type": "code",
   "execution_count": 3,
   "id": "ee67a197",
   "metadata": {},
   "outputs": [
    {
     "name": "stdout",
     "output_type": "stream",
     "text": [
      "55\n"
     ]
    }
   ],
   "source": [
    "num1 = 50\n",
    "num2 = 5\n",
    "print(num1 + num2)"
   ]
  },
  {
   "cell_type": "code",
   "execution_count": 4,
   "id": "4d43d197",
   "metadata": {},
   "outputs": [
    {
     "name": "stdout",
     "output_type": "stream",
     "text": [
      "58\n"
     ]
    }
   ],
   "source": [
    "num1 = 67\n",
    "num2 = 9\n",
    "print(num1 - num2)"
   ]
  },
  {
   "cell_type": "code",
   "execution_count": 5,
   "id": "6d84dd9a",
   "metadata": {},
   "outputs": [
    {
     "name": "stdout",
     "output_type": "stream",
     "text": [
      "600\n"
     ]
    }
   ],
   "source": [
    "num1 = 300\n",
    "num2 = 2\n",
    "print(num1 * num2)"
   ]
  },
  {
   "cell_type": "code",
   "execution_count": 6,
   "id": "34211c52",
   "metadata": {},
   "outputs": [
    {
     "name": "stdout",
     "output_type": "stream",
     "text": [
      "5.0\n"
     ]
    }
   ],
   "source": [
    "num1 = 500\n",
    "num2 = 100\n",
    "print(num1/num2)"
   ]
  },
  {
   "cell_type": "code",
   "execution_count": 7,
   "id": "7a419f41",
   "metadata": {},
   "outputs": [
    {
     "name": "stdout",
     "output_type": "stream",
     "text": [
      "I amexcited to take this class!\n",
      "I am an Eagle Scout.\n"
     ]
    }
   ],
   "source": [
    "print(\"I amexcited to take this class!\")\n",
    "print(\"I am an Eagle Scout.\")"
   ]
  },
  {
   "cell_type": "code",
   "execution_count": 9,
   "id": "f3ed9113",
   "metadata": {
    "scrolled": true
   },
   "outputs": [
    {
     "name": "stdout",
     "output_type": "stream",
     "text": [
      "20\n",
      "70\n",
      "30\n",
      "50\n"
     ]
    },
    {
     "ename": "NameError",
     "evalue": "name 'num_2' is not defined",
     "output_type": "error",
     "traceback": [
      "\u001b[1;31m---------------------------------------------------------------------------\u001b[0m",
      "\u001b[1;31mNameError\u001b[0m                                 Traceback (most recent call last)",
      "Cell \u001b[1;32mIn[9], line 7\u001b[0m\n\u001b[0;32m      5\u001b[0m \u001b[38;5;28mprint\u001b[39m (num2)\n\u001b[0;32m      6\u001b[0m \u001b[38;5;28mprint\u001b[39m (num1 \u001b[38;5;241m+\u001b[39m num2)\n\u001b[1;32m----> 7\u001b[0m \u001b[38;5;28mprint\u001b[39m (num_2)\n",
      "\u001b[1;31mNameError\u001b[0m: name 'num_2' is not defined"
     ]
    }
   ],
   "source": [
    "num1 = 20\n",
    "num2 = 30\n",
    "print (num1)\n",
    "print (num1 + 50)\n",
    "print (num2)\n",
    "print (num1 + num2)\n",
    "print (num_2)"
   ]
  },
  {
   "cell_type": "code",
   "execution_count": 16,
   "id": "27a3ca56",
   "metadata": {},
   "outputs": [
    {
     "name": "stdout",
     "output_type": "stream",
     "text": [
      "20\n",
      "70\n",
      "30\n",
      "50\n"
     ]
    }
   ],
   "source": [
    "num1 = 20\n",
    "num2 = 30\n",
    "print (num1)\n",
    "print (num1 + 50)\n",
    "print (num2)\n",
    "print (num1 + num2)"
   ]
  }
 ],
 "metadata": {
  "kernelspec": {
   "display_name": "Python 3 (ipykernel)",
   "language": "python",
   "name": "python3"
  },
  "language_info": {
   "codemirror_mode": {
    "name": "ipython",
    "version": 3
   },
   "file_extension": ".py",
   "mimetype": "text/x-python",
   "name": "python",
   "nbconvert_exporter": "python",
   "pygments_lexer": "ipython3",
   "version": "3.11.4"
  }
 },
 "nbformat": 4,
 "nbformat_minor": 5
}
