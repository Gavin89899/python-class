{
 "cells": [
  {
   "cell_type": "markdown",
   "id": "763b88d6",
   "metadata": {},
   "source": [
    "### Hw 3 Problem 1 part A"
   ]
  },
  {
   "cell_type": "code",
   "execution_count": 9,
   "id": "033a8ad3",
   "metadata": {},
   "outputs": [],
   "source": [
    "#Author: Gavin Corley\n",
    "#Purpose: using the turtle library to draw a square\n",
    "import turtle\n",
    "\n",
    "turtle.forward(100)\n",
    "turtle.right(90)\n",
    "turtle.forward(100)\n",
    "turtle.right(90)\n",
    "turtle.forward(100)\n",
    "turtle.right(90)\n",
    "turtle.forward(100)\n",
    "\n",
    "turtle.exitonclick()"
   ]
  },
  {
   "cell_type": "markdown",
   "id": "bf800a7f",
   "metadata": {},
   "source": [
    "### Hw 3 Problem 1 part B"
   ]
  },
  {
   "cell_type": "code",
   "execution_count": 1,
   "id": "8eba5123",
   "metadata": {},
   "outputs": [],
   "source": [
    "#Author: Gavin Corley\n",
    "#Purpose: using the turtle library to draw a triangle\n",
    "import turtle\n",
    "\n",
    "turtle.right(45)\n",
    "turtle.forward(200)\n",
    "turtle.right(120)\n",
    "turtle.forward(200)\n",
    "turtle.right(120)\n",
    "turtle.forward(200)\n",
    "\n",
    "turtle.exitonclick()"
   ]
  },
  {
   "cell_type": "markdown",
   "id": "fb9cb72d",
   "metadata": {},
   "source": [
    "### Hw 3 Problem 1 part C"
   ]
  },
  {
   "cell_type": "code",
   "execution_count": 23,
   "id": "e2cf50fb",
   "metadata": {},
   "outputs": [],
   "source": [
    "#Author: Gavin Corley\n",
    "#Purpose: using the turtle library to draw a pentagon\n",
    "import turtle\n",
    "\n",
    "turtle.right(45)\n",
    "turtle.forward(145)\n",
    "turtle.right(45)\n",
    "turtle.forward(200)\n",
    "turtle.right(90)\n",
    "turtle.forward(200)\n",
    "turtle.right(90)\n",
    "turtle.forward(200)\n",
    "turtle.right(45)\n",
    "turtle.forward(145)\n",
    "\n",
    "turtle.exitonclick()"
   ]
  },
  {
   "cell_type": "markdown",
   "id": "aef212c2",
   "metadata": {},
   "source": [
    "### Hw 3 Problem 2\n",
    "For my variant I chose to ask if the LI pours the cereal or milk first, and depending on the answer it tells them whether they should keep seeing this person."
   ]
  },
  {
   "cell_type": "code",
   "execution_count": 68,
   "id": "ad75e0e2",
   "metadata": {},
   "outputs": [
    {
     "name": "stdout",
     "output_type": "stream",
     "text": [
      "Enter your age: 50\n",
      "Enter Love Interest's age: 55\n",
      "Does the other person pour cereal or milk first? (Type 'c' or 'm'): c\n",
      "\n",
      "This person is right for you!\n"
     ]
    }
   ],
   "source": [
    "#Author: Gavin Corley\n",
    "#Purpose: to determine if someone is good to date\n",
    "your_age = int(input(\"Enter your age: \"))\n",
    "love_interest_age = int(input(\"Enter Love Interest's age: \"))\n",
    "cereal = input(\"Does the other person pour cereal or milk first? (Type 'c' or 'm'): \")\n",
    "\n",
    "if love_interest_age < your_age / 2 + 7:\n",
    "    print(\"\\nYou are creepy that is too young!\")\n",
    "elif love_interest_age > (your_age - 7) * 2:\n",
    "    print(\"\\nThat is too old for you!\")\n",
    "elif cereal == 'c':\n",
    "    print(\"\\nThis person is right for you!\")\n",
    "else:\n",
    "    print(\"\\nTime to find someone else.\")\n"
   ]
  },
  {
   "cell_type": "markdown",
   "id": "ec6c56f7",
   "metadata": {},
   "source": [
    "### Hw 3 Problem 3"
   ]
  },
  {
   "cell_type": "code",
   "execution_count": 37,
   "id": "e26db3dd",
   "metadata": {},
   "outputs": [
    {
     "name": "stdout",
     "output_type": "stream",
     "text": [
      "Enter age here: 4\n",
      "\n",
      "You are a child!\n"
     ]
    }
   ],
   "source": [
    "#Author: Gavin Corley\n",
    "#Purpose: displaying stage in life according to age\n",
    "age = float(input(\"Enter age here: \"))\n",
    "\n",
    "if age <= 1:\n",
    "    print(\"\\nYou are an infant!\")\n",
    "elif age < 3:\n",
    "    print(\"\\nYou are a toddler!\")\n",
    "elif age < 13:\n",
    "    print(\"\\nYou are a child!\")\n",
    "elif age < 20:\n",
    "    print(\"\\nYou are a teenager!\")\n",
    "elif age < 70:\n",
    "    print(\"\\nYou are a adult!\")\n",
    "else:\n",
    "    print(\"\\nYou are a mature wise person!\")"
   ]
  }
 ],
 "metadata": {
  "kernelspec": {
   "display_name": "Python 3 (ipykernel)",
   "language": "python",
   "name": "python3"
  },
  "language_info": {
   "codemirror_mode": {
    "name": "ipython",
    "version": 3
   },
   "file_extension": ".py",
   "mimetype": "text/x-python",
   "name": "python",
   "nbconvert_exporter": "python",
   "pygments_lexer": "ipython3",
   "version": "3.11.4"
  }
 },
 "nbformat": 4,
 "nbformat_minor": 5
}
