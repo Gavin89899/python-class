{
 "cells": [
  {
   "cell_type": "markdown",
   "id": "e5e3788f",
   "metadata": {},
   "source": [
    "## Lab 3 Problem 1\n",
    "### The rules to my game go as follows: rock puts out fire, fire burns hand, fire burns paper, hand breaks scissors, hand throws rock, scissors puts out fire, and paper cuts hand."
   ]
  },
  {
   "cell_type": "code",
   "execution_count": 8,
   "id": "da2a2fc9",
   "metadata": {},
   "outputs": [
    {
     "name": "stdout",
     "output_type": "stream",
     "text": [
      "Welcome to my game!!\n",
      "Do you want to be rock, paper, scissors, hand, or fire? fire\n",
      "You are: fire\n",
      "The computer has scissors \n",
      "You LOSE!\n"
     ]
    }
   ],
   "source": [
    "#Author: Gavin Corley\n",
    "#This code runs a game of rock, paper, scissors with two added variants\n",
    "import random\n",
    "\n",
    "print(\"Welcome to my game!!\")\n",
    "\n",
    "player = input(\"Do you want to be rock, paper, scissors, hand, or fire? \")\n",
    "print(\"You are: \" + player)\n",
    "\n",
    "computer = random.choice(['rock', 'paper', 'scissors', 'hand', 'fire'])\n",
    "print(\"The computer has\", computer,\"\")\n",
    "\n",
    "if(computer == player):\n",
    "    print(\"Its a TIE\")\n",
    "\n",
    "elif player == 'rock':\n",
    "    \n",
    "    if computer == 'scissors' or computer == 'fire':\n",
    "        print(\"You WIN!\")\n",
    "    elif computer == 'paper' or computer == 'hand':\n",
    "        print(\"You LOSE!\")\n",
    "\n",
    "elif player == 'paper':\n",
    "    \n",
    "    if computer == 'hand' or computer == 'rock':\n",
    "        print(\"You WIN!\")\n",
    "    elif computer == 'scissors' or computer == 'fire':\n",
    "        print(\"You LOSE!\")\n",
    "        \n",
    "elif player == 'scissors':\n",
    "    \n",
    "    if computer == 'paper' or computer == 'fire':\n",
    "        print(\"You WIN!\")\n",
    "    elif computer == 'rock' or computer == 'hand':\n",
    "        print(\"You LOSE!\")\n",
    "        \n",
    "elif player == 'hand':\n",
    "    \n",
    "    if computer == 'rock' or computer == 'scissors':\n",
    "        print(\"You WIN!\")\n",
    "    elif computer == 'paper' or computer == 'fire':\n",
    "        print(\"You LOSE!\")\n",
    "\n",
    "elif player == 'fire':\n",
    "    \n",
    "    if computer == 'hand' or computer == 'paper':\n",
    "        print(\"You WIN!\")\n",
    "    elif computer == 'scissors' or computer == 'rock':\n",
    "        print(\"You LOSE!\")"
   ]
  },
  {
   "cell_type": "markdown",
   "id": "0a882553",
   "metadata": {},
   "source": [
    "### Lab 3 Problem 2"
   ]
  },
  {
   "cell_type": "code",
   "execution_count": 33,
   "id": "585ca422",
   "metadata": {},
   "outputs": [
    {
     "name": "stdout",
     "output_type": "stream",
     "text": [
      "Welcome to my game!\n",
      "Do you want to be 'rock', 'paper', or 'scissors'? rock\n",
      "You are  rock\n",
      "The computer has rock\n",
      "Its a TIE\n"
     ]
    }
   ],
   "source": [
    "#Author: Gavin Corley\n",
    "#Rock Paper Scissors with nested if loops\n",
    "import random\n",
    "\n",
    "print(\"Welcome to my game!\")\n",
    "\n",
    "player = input(\"Do you want to be 'rock', 'paper', or 'scissors'? \")\n",
    "print(\"You are \", player)\n",
    "\n",
    "computer = random.choice(['rock', 'paper', 'scissors'])\n",
    "print(\"The computer has\", computer)\n",
    "\n",
    "if(computer == player):\n",
    "    print(\"Its a TIE\")\n",
    "\n",
    "elif player == 'rock':\n",
    "    \n",
    "    if computer =='scissors':\n",
    "        print(\"You WIN!\")\n",
    "    else:\n",
    "        print(\"You LOSE!\")\n",
    "\n",
    "elif player == 'scissors':\n",
    "    \n",
    "    if computer =='paper':\n",
    "        print(\"You WIN!\")\n",
    "    else:\n",
    "        print(\"You LOSE!\")\n",
    "\n",
    "elif player == 'paper':\n",
    "    \n",
    "    if computer =='rock':\n",
    "        print(\"You WIN!\")\n",
    "    else:\n",
    "        print(\"You LOSE!\")"
   ]
  },
  {
   "cell_type": "markdown",
   "id": "017690f8",
   "metadata": {},
   "source": [
    "### Lab 3 Problem 3"
   ]
  },
  {
   "cell_type": "code",
   "execution_count": 7,
   "id": "31d25ec2",
   "metadata": {},
   "outputs": [
    {
     "name": "stdout",
     "output_type": "stream",
     "text": [
      "Welcome to Fantasy Land! What would you like to do first? \n",
      "Type 'a' to ride a dragon or 'b' to ride a lion or 'c' to ride a sharkc\n",
      "You swim up to the shark with worry.\n",
      "The shark smirks in your direction.\n",
      "Now what? \n",
      "Type 'a' to swim away or 'b' to ride the shark: b\n",
      "The shark starts to go underwater and you panic.\n",
      "You wished that you had brought that scuba gear.\n"
     ]
    }
   ],
   "source": [
    "#Author: Gavin Corley\n",
    "#This code will write a choose your own adventure story\n",
    "print(\"Welcome to Fantasy Land! What would you like to do first? \")\n",
    "\n",
    "choice1 = input(\"Type 'a' to ride a dragon or 'b' to ride a lion or 'c' to ride a shark\")\n",
    "\n",
    "if choice1 == 'a':\n",
    "    print(\"You walk up to the dragon with caution.\")\n",
    "    print(\"He roars with anticipation.\")\n",
    "    print(\"Now what? \")\n",
    "    choice2 = input(\"Type 'a' continue riding or 'b' stop riding and return home: \")\n",
    "\n",
    "    if choice2 == 'a':\n",
    "        print(\"He takes off shooting fire from his mouth while you smile happily.\")\n",
    "    elif choice2 == 'b':\n",
    "        print(\"He laughs at you and flys away.\")\n",
    "\n",
    "elif choice1 == 'b':\n",
    "    print(\"You walk up to the lion with confidence.\")\n",
    "    print(\"The lion pushes you over.\")\n",
    "    print(\"Now what? \")\n",
    "    choice2 = input(\"Type 'a' continue trying to ride or 'b' fight the lion: \")\n",
    "    \n",
    "    if choice2 == 'a':\n",
    "        print(\"He accepts and you ride off into the sunset.\")\n",
    "    elif choice2 == 'b':\n",
    "        print(\"You lose very badly to the lion, it is not a good day.\")\n",
    "        \n",
    "elif choice1 == 'c':\n",
    "    print(\"You swim up to the shark with worry.\")\n",
    "    print(\"The shark smirks in your direction.\")\n",
    "    print(\"Now what? \")\n",
    "    choice2 = input(\"Type 'a' to swim away or 'b' to ride the shark: \")\n",
    "    \n",
    "    if choice2 == 'a':\n",
    "        print(\"As you start to swim away the shark creeps behind you, better start swimming faster.\")\n",
    "    elif choice2 == 'b':\n",
    "        print(\"The shark starts to go underwater and you panic.\")\n",
    "        print(\"You wished that you had brought that scuba gear.\")"
   ]
  }
 ],
 "metadata": {
  "kernelspec": {
   "display_name": "Python 3 (ipykernel)",
   "language": "python",
   "name": "python3"
  },
  "language_info": {
   "codemirror_mode": {
    "name": "ipython",
    "version": 3
   },
   "file_extension": ".py",
   "mimetype": "text/x-python",
   "name": "python",
   "nbconvert_exporter": "python",
   "pygments_lexer": "ipython3",
   "version": "3.11.4"
  }
 },
 "nbformat": 4,
 "nbformat_minor": 5
}
