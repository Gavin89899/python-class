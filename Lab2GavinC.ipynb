{
 "cells": [
  {
   "cell_type": "markdown",
   "id": "50b4853c",
   "metadata": {},
   "source": [
    "<h2><ins>Lab 2</ins><br>\n",
    "Problem 1: Bitcoin is a form of digital currency that was created to try and eliminate the need for banks and governments to get involved. Bitcoin uses blockchain to store all of the transactions made by the users this way it is not controlled by any corporation only by the users.</h2>"
   ]
  },
  {
   "cell_type": "code",
   "execution_count": 28,
   "id": "f5538be2",
   "metadata": {},
   "outputs": [
    {
     "name": "stdout",
     "output_type": "stream",
     "text": [
      "How many bitcoins do you currently have? 2000\n",
      "51511200.0\n"
     ]
    }
   ],
   "source": [
    "# Author: Gavin Corley\n",
    "# This program will convert bitcoin to american dollars\n",
    "bitcoin = int(input(\"How many bitcoins do you currently have? \"))\n",
    "total = float(bitcoin) * 25755.60\n",
    "print(round(total, 2))"
   ]
  },
  {
   "cell_type": "code",
   "execution_count": 21,
   "id": "7f60f5c3",
   "metadata": {},
   "outputs": [
    {
     "name": "stdout",
     "output_type": "stream",
     "text": [
      "Enter a place: z\n",
      "Enter an noun: z\n",
      "Enter a verb: z\n",
      "Enter a color: z\n",
      "Enter an animal: z\n",
      "\n",
      "I decided I was going to take a trip to the z on this beautiful day.\n",
      "While I was about to leave I realized I had to turn back because I could not leave without my z.\n",
      "While I was on my way I noticed someone on the side of the road and they were z.\n",
      "After I had arrived at the z there was a z z and I thought to myself what a strange sight.\n",
      "\n"
     ]
    }
   ],
   "source": [
    "# Author: Gavin Corley\n",
    "# This program write a madlib type story\n",
    "blank1 = input(\"Enter a place: \")\n",
    "blank2 = input(\"Enter an noun: \")\n",
    "blank3 = input(\"Enter a verb: \")\n",
    "blank4 = input(\"Enter a color: \")\n",
    "blank5 = input(\"Enter an animal: \")\n",
    "print(\"\\nI decided I was going to take a trip to the \" + blank1 + \" on this beautiful day.\\n\" +\n",
    "      \"While I was about to leave I realized I had to turn back because I could not leave without my \" + blank2\n",
    "      + \".\\n\" + \"While I was on my way I noticed someone on the side of the road and they were \" + blank3 + '.\\n'\n",
    "      + \"After I had arrived at the \" + blank1 + \" there was a \" + blank4 + ' ' + blank5 +\n",
    "      \" and I thought to myself what a strange sight.\\n\", sep = '')"
   ]
  }
 ],
 "metadata": {
  "kernelspec": {
   "display_name": "Python 3 (ipykernel)",
   "language": "python",
   "name": "python3"
  },
  "language_info": {
   "codemirror_mode": {
    "name": "ipython",
    "version": 3
   },
   "file_extension": ".py",
   "mimetype": "text/x-python",
   "name": "python",
   "nbconvert_exporter": "python",
   "pygments_lexer": "ipython3",
   "version": "3.11.4"
  }
 },
 "nbformat": 4,
 "nbformat_minor": 5
}
